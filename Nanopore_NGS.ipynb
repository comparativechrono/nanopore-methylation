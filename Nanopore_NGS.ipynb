{
  "nbformat": 4,
  "nbformat_minor": 0,
  "metadata": {
    "colab": {
      "name": "Nanopore_NGS.ipynb",
      "provenance": [],
      "collapsed_sections": [],
      "authorship_tag": "ABX9TyPEOTcGwPCvmDuDNpdMqiGc",
      "include_colab_link": true
    },
    "kernelspec": {
      "name": "python3",
      "display_name": "Python 3"
    },
    "language_info": {
      "name": "python"
    }
  },
  "cells": [
    {
      "cell_type": "markdown",
      "metadata": {
        "id": "view-in-github",
        "colab_type": "text"
      },
      "source": [
        "<a href=\"https://colab.research.google.com/github/comparativechrono/nanopore-methylation/blob/main/Nanopore_NGS.ipynb\" target=\"_parent\"><img src=\"https://colab.research.google.com/assets/colab-badge.svg\" alt=\"Open In Colab\"/></a>"
      ]
    },
    {
      "cell_type": "markdown",
      "source": [
        "# Finding sequences that match a query in nanopore long read fastq files"
      ],
      "metadata": {
        "id": "XluEWulVXa_4"
      }
    },
    {
      "cell_type": "markdown",
      "source": [
        "##Set-up"
      ],
      "metadata": {
        "id": "_vr_bDArXjXq"
      }
    },
    {
      "cell_type": "markdown",
      "metadata": {
        "id": "hK3xk9kqIDCt"
      },
      "source": [
        "When you start a colab session you are starting a new virtual machine. If we want to use notebooks for reproducible research we need to be able to set up all the programs and import all the data we need for our analysis each time we begin. This might seem like a lot of work - but it is worth doing. Why? Because it makes our research reproducible. There are a couple of things we need to do. We will set up conda as it is the best way to use tools, and then we will use conda to install the programs needed. This may take around 10 minutes. The code cells are hidden."
      ]
    },
    {
      "cell_type": "code",
      "metadata": {
        "id": "t8oVhrJBG2YD",
        "cellView": "form"
      },
      "source": [
        "#@title Set up conda on notebook\n",
        "%%capture\n",
        "! wget https://repo.anaconda.com/miniconda/Miniconda3-py37_4.8.2-Linux-x86_64.sh \n",
        "! chmod +x Miniconda3-py37_4.8.2-Linux-x86_64.sh \n",
        "! bash ./Miniconda3-py37_4.8.2-Linux-x86_64.sh -b -f -p /usr/local \n",
        "import sys \n",
        "sys.path.append('/usr/local/lib/python3.7/site-packages/')\n"
      ],
      "execution_count": 2,
      "outputs": []
    },
    {
      "cell_type": "code",
      "metadata": {
        "id": "HtIjSuZlFbyZ",
        "cellView": "form"
      },
      "source": [
        "#@title Install the programs you need\n",
        "%%capture\n",
        "# FastQC is a program designed to spot potential problems in high throughput sequencing datasets. \n",
        "!conda install -c bioconda samtools -y\n",
        "# Multiqc can aggregate and summarize all the QC data and alignment log data in one file \n",
        "!pip install multiqc\n",
        "# BLAST - the BLAST algorithm \n",
        "! conda install -c bioconda blast -y\n",
        "# Magic-blast - BLAST for high-throughput sequencing reads \n",
        "! conda install -c bioconda magicblast -y"
      ],
      "execution_count": 3,
      "outputs": []
    },
    {
      "cell_type": "markdown",
      "source": [
        "##The problem:\n",
        "We want to perform the following tasks:\n",
        "1.\tConvert fastq to fasta \n",
        "2.\tMake a fasta file containing the GOI (i.e. the 2kb of the promoter)\n",
        "3.\tUse fasta file as a BLAST library\n",
        "4.\tUse GOI as the sequence to search\n",
        "5.\tUse BLAST to identify reads containing the sequence of interest\n",
        "6.\tUse the ID of the read to cross-reference to the bam file\n",
        "7.\tIdentify the CIGAR string in the bam file\n",
        "\n",
        "This notebook takes you up to step 5. "
      ],
      "metadata": {
        "id": "hpFaJ2fSX12N"
      }
    },
    {
      "cell_type": "markdown",
      "metadata": {
        "id": "worst-bench"
      },
      "source": [
        "## The solution:\n",
        "We need to convert the FASTQ file into something that can be searched against efficiently using an algorithm. We will do this using BLAST. We need to choose a way to transform our FASTQ data into FASTA data. Then we need to make a BLAST library from our sequence FASTA data and search it using the sequence of our GOI."
      ]
    },
    {
      "cell_type": "code",
      "source": [
        "# as this notebook is written for colab we will cheat and bring in a fastq.gz file using URL\n",
        "! wget https://www.dropbox.com/s/yydq3i13t2zu0gg/FAT50823_pass_d652af8d_0.fastq.gz?dl=1 -O example.fastq.gz"
      ],
      "metadata": {
        "colab": {
          "base_uri": "https://localhost:8080/"
        },
        "id": "IYUS6AZZHfq_",
        "outputId": "796fa784-dec7-4f40-8077-b0103776ab1f"
      },
      "execution_count": 4,
      "outputs": [
        {
          "output_type": "stream",
          "name": "stdout",
          "text": [
            "--2022-05-31 13:03:42--  https://www.dropbox.com/s/yydq3i13t2zu0gg/FAT50823_pass_d652af8d_0.fastq.gz?dl=1\n",
            "Resolving www.dropbox.com (www.dropbox.com)... 162.125.7.18, 2620:100:601c:18::a27d:612\n",
            "Connecting to www.dropbox.com (www.dropbox.com)|162.125.7.18|:443... connected.\n",
            "HTTP request sent, awaiting response... 301 Moved Permanently\n",
            "Location: /s/dl/yydq3i13t2zu0gg/FAT50823_pass_d652af8d_0.fastq.gz [following]\n",
            "--2022-05-31 13:03:43--  https://www.dropbox.com/s/dl/yydq3i13t2zu0gg/FAT50823_pass_d652af8d_0.fastq.gz\n",
            "Reusing existing connection to www.dropbox.com:443.\n",
            "HTTP request sent, awaiting response... 302 Found\n",
            "Location: https://uc40ba017df868f50d87a3d69be0.dl.dropboxusercontent.com/cd/0/get/BmVgV0UdaUpHSyfUicQgwaam4FRkjFIFqDnpP8HLJm6BstTI265MNg43AtCswX_rJCDuv1fVLhWzif7JWnqMbjzaztPXikQZSFn60q5QlJT16mXDWq8LHgC9OXAx1zMoBRoYxK0Giy2xKHrtv0C7yytIXbm-k0PUd8xrSgr8gylYHJuKt1kjT9u1seam2mTNMLI/file?dl=1# [following]\n",
            "--2022-05-31 13:03:43--  https://uc40ba017df868f50d87a3d69be0.dl.dropboxusercontent.com/cd/0/get/BmVgV0UdaUpHSyfUicQgwaam4FRkjFIFqDnpP8HLJm6BstTI265MNg43AtCswX_rJCDuv1fVLhWzif7JWnqMbjzaztPXikQZSFn60q5QlJT16mXDWq8LHgC9OXAx1zMoBRoYxK0Giy2xKHrtv0C7yytIXbm-k0PUd8xrSgr8gylYHJuKt1kjT9u1seam2mTNMLI/file?dl=1\n",
            "Resolving uc40ba017df868f50d87a3d69be0.dl.dropboxusercontent.com (uc40ba017df868f50d87a3d69be0.dl.dropboxusercontent.com)... 162.125.6.15, 2620:100:6019:15::a27d:40f\n",
            "Connecting to uc40ba017df868f50d87a3d69be0.dl.dropboxusercontent.com (uc40ba017df868f50d87a3d69be0.dl.dropboxusercontent.com)|162.125.6.15|:443... connected.\n",
            "HTTP request sent, awaiting response... 200 OK\n",
            "Length: 13660625 (13M) [application/binary]\n",
            "Saving to: ‘example.fastq.gz’\n",
            "\n",
            "example.fastq.gz    100%[===================>]  13.03M  74.6MB/s    in 0.2s    \n",
            "\n",
            "2022-05-31 13:03:44 (74.6 MB/s) - ‘example.fastq.gz’ saved [13660625/13660625]\n",
            "\n"
          ]
        }
      ]
    },
    {
      "cell_type": "markdown",
      "source": [
        "**Step 1)** Get fastq files unzipped and merged to be further processed"
      ],
      "metadata": {
        "id": "Y2lKl9fjWbP7"
      }
    },
    {
      "cell_type": "code",
      "source": [
        "# extract the fastq files using gunzip recursively\n",
        "! gunzip *.gz"
      ],
      "metadata": {
        "id": "xUZA4pu0UVBi",
        "colab": {
          "base_uri": "https://localhost:8080/"
        },
        "outputId": "63e0285d-8108-4ee9-bd0d-9a9388531bd0"
      },
      "execution_count": 5,
      "outputs": [
        {
          "output_type": "stream",
          "name": "stdout",
          "text": [
            "gzip: example.fastq already exists; do you wish to overwrite (y or n)? y\n"
          ]
        }
      ]
    },
    {
      "cell_type": "code",
      "source": [
        "# merge the fastq files together by concatanating them\n",
        "!cat *.fastq > bigfile.fastq"
      ],
      "metadata": {
        "id": "76s7WV-qUogM"
      },
      "execution_count": 6,
      "outputs": []
    },
    {
      "cell_type": "markdown",
      "source": [
        "**Step 2)** Convert fastq to fasta to be BLAST input. There are many ways to do this, I like using `awk`"
      ],
      "metadata": {
        "id": "ZAsE_GmYWhO2"
      }
    },
    {
      "cell_type": "code",
      "execution_count": 7,
      "metadata": {
        "id": "ideal-jurisdiction",
        "colab": {
          "base_uri": "https://localhost:8080/"
        },
        "outputId": "7a83700a-fbd9-435b-b302-b226b73dcae6"
      },
      "outputs": [
        {
          "output_type": "stream",
          "name": "stdout",
          "text": [
            ">8353186d-7240-49f1-b8a6-4120e21ae2dc runid=d652af8d03078163af0aadbe074b35c7cfcc6dc6 read=19 ch=434 start_time=2022-05-25T17:08:06.029807+01:00 flow_cell_id=FAT50823 protocol_group_id=220525_ZF_ZT9_LD sample_id=ZF_ZT9_LD parent_read_id=8353186d-7240-49f1-b8a6-4120e21ae2dc basecall_model_version_id=unknown\n",
            "ATCAGATTTGGGTGTTTAACCGTTTCCCCTTTATCGTGGCTGCTTTCGCGTTTTCGTGCGCCCTTCAGTGTGTAGTCTTTTTATCCCAGCATCCCTCTGGCCATTGTGAGCATCTGCATAATGCATGATCAATATGTTGGTTTATAAAGGGCTCAATCTGACAGCGAAGCATACAGTCATATATTCACGTCTGATCCTGTGGATGTGGAGTGGATGGAGCGGGCCTGTGGCAAGATGCGCAGTGTCAGCTTTCACTTACTCACTTAATCCAGGCCCACCCTTCAACCTCATCCAGAGAGCTATGGTTAGTTGAGAGGGAAGAAAAACTGACTTTAATCAGCTCTGGCTTCAGGAAACTCAGCAGTGACGAGGATTGGAGAATTTAATGATGAGCTCAGTGGAAGTTGAAGATATTGT\n",
            ">27b8a01d-a923-4e49-8eed-69ebf5738756 runid=d652af8d03078163af0aadbe074b35c7cfcc6dc6 read=21 ch=282 start_time=2022-05-25T17:08:06.029807+01:00 flow_cell_id=FAT50823 protocol_group_id=220525_ZF_ZT9_LD sample_id=ZF_ZT9_LD parent_read_id=27b8a01d-a923-4e49-8eed-69ebf5738756 basecall_model_version_id=unknown\n",
            "GTTGTACTTTGTTCAGTTCAGAAGAATTTGGGTGTTTAACCGTTTTGCGTTATCGTGAAACACTTCCCGCGTTTACTAATTGCCCTTCAACCATTTTTGACAAGTCTTTTCTTATGGTGGAGTCATGAACACTCACCTTAACTGAGGCAAGTGTGGCCTACAGTTCTTTCAATGTTATTATTAGGTCTTTGTGACTTCTTGGATGAGTTGTTCCTGCACTCAGGGTAATATTTGGTCAATAATCACTCCTCCAATTATTTTCTTTTGCATGTGTTTTGAATTACTTTGGATCTCGGCATGATATCTAGCTAGGATGTCTCCCTTCGCTTTGTCCAGGCAGGTCCTATTTAAAGTTTGTTTCTTATT\n",
            ">c4925ef0-1281-448f-a829-f79d2ed99218 runid=d652af8d03078163af0aadbe074b35c7cfcc6dc6 read=16 ch=216 start_time=2022-05-25T17:08:05.029807+01:00 flow_cell_id=FAT50823 protocol_group_id=220525_ZF_ZT9_LD sample_id=ZF_ZT9_LD parent_read_id=c4925ef0-1281-448f-a829-f79d2ed99218 basecall_model_version_id=unknown\n",
            "GTGTACTTCGTTCAGTTCAGATTTAGGTGTTTTAACCGTTTCATTTATCGTGAAACGCTTTTTCGCGTTTTCGTGCGCCCTTCACTGATTGGATGTAGTAAAATAGGCATTTGTTCTGAAAGATGGGAAAGGCTTTAGGGGAGAGTTATTACAGCCTCCTCCTCCTCATCATCATTTCTGTTTGTTGTCAGAGCTGACAGCAGGAGGGCGATTAAGAGTATGTTAGCCCCGCCCAATACCTCAGACAGACCTAATCTGAGAATTTAACTGAAAACAAACAGGAAGTGCATTT\n",
            ">09e4b92c-096d-4dd1-a38d-0e68d87337ef runid=d652af8d03078163af0aadbe074b35c7cfcc6dc6 read=18 ch=149 start_time=2022-05-25T17:08:06.029807+01:00 flow_cell_id=FAT50823 protocol_group_id=220525_ZF_ZT9_LD sample_id=ZF_ZT9_LD parent_read_id=09e4b92c-096d-4dd1-a38d-0e68d87337ef basecall_model_version_id=unknown\n",
            "ATGTGCTTCGTTCAGTTTCAGATCAGGTTTTAACCGTTTTCGCATTTATCGTGAAACGCTTTCGTTTTCGTGCACTTAACTTCAAAGTTAGTGTAGGCTCCATTCAACCATTTTTCCCACAGCTTTAATTTAGTTAAAGAGTTCATAAATGGGCAGTTAAAATAAGTAGGTAGCAATGTCACCTCACAACAAAAAGGTTGCTGGATTCCCCGAGCCTCGGCTGGGTCAGTT\n",
            ">48159ff8-92ac-417a-aed7-89560122ee83 runid=d652af8d03078163af0aadbe074b35c7cfcc6dc6 read=16 ch=77 start_time=2022-05-25T17:08:05.029807+01:00 flow_cell_id=FAT50823 protocol_group_id=220525_ZF_ZT9_LD sample_id=ZF_ZT9_LD parent_read_id=48159ff8-92ac-417a-aed7-89560122ee83 basecall_model_version_id=unknown\n",
            "CATTGTACTTCGTTCAGTTCAGAGAGTGGGTGTTTAACCGTTTTCCGCATTTATCGTGAAACGCTTTCGCGTTTTCGTGCGCCGCTTCAACGAAAATGAATGAATTAATGAACATGAATGACAATATGCATCTCCCCTCTGCACAGCCCCCATCCCTGTCCCATTTTAATGTGCATTTGGTAAATCTTAATATGCAAACAAAACATAATTCAAAGAAGAAAATATTAAAATCGCATAATTAAACTTAAATAATTTAATAAAACTTTATTTGAAGTTATTTTAATAAAACTCCTTTAGCTAAATACACATTAATCTTGATTTGTTTATTTATTTATTTAAATTTGACAACTGGAAGAATAAATAGAATGATAATTAAATTATTTAATAACAAATTCATAATGAAATTTGTTGCTACCCACAATTACTAATTTAACTACAGTTTCACCAACATGGACTATGCCACACTTTGAGCTAGACTTTATTTGTAGGCATGTAGGGATGAAGGGAATGGTAAGACAGTGAGATGAAGGGGAAGGAATAGAGGATAAAT\n"
          ]
        }
      ],
      "source": [
        "%%bash\n",
        "cat bigfile.fastq | awk '{if(NR%4==1) {printf(\">%s\\n\",substr($0,2));} else if(NR%4==2) print;}' >  output.fasta\n",
        "head output.fasta"
      ]
    },
    {
      "cell_type": "markdown",
      "metadata": {
        "id": "revised-knock"
      },
      "source": [
        "**Step 3)** Make a blast library. magicblast has a command to make a blast database <code>makeblastdb</code>. Note that some older information on the internet will recommend using the EMBOSS formatdb package. Please do not use this. There is a good overview here: https://www.ncbi.nlm.nih.gov/books/NBK569841/. Detailed instructions for using <code>makeblastdb</code> are available here: https://ncbi.github.io/magicblast/cook/blastdb.html"
      ]
    },
    {
      "cell_type": "code",
      "execution_count": 8,
      "metadata": {
        "id": "magnetic-placement",
        "colab": {
          "base_uri": "https://localhost:8080/"
        },
        "outputId": "47331b4a-10be-4420-db74-7dc4327bb3d8"
      },
      "outputs": [
        {
          "output_type": "execute_result",
          "data": {
            "text/plain": [
              "['',\n",
              " '',\n",
              " 'Building a new DB, current time: 05/31/2022 13:33:38',\n",
              " 'New DB name:   /content/database',\n",
              " 'New DB title:  output.fasta',\n",
              " 'Sequence type: Nucleotide',\n",
              " 'Deleted existing Nucleotide BLAST database named /content/database',\n",
              " 'Keep MBits: T',\n",
              " 'Maximum file size: 1000000000B',\n",
              " 'Adding sequences from FASTA; added 4000 sequences in 0.416106 seconds.']"
            ]
          },
          "metadata": {},
          "execution_count": 8
        }
      ],
      "source": [
        "%%!\n",
        "makeblastdb -in output.fasta -dbtype nucl -out database"
      ]
    },
    {
      "cell_type": "markdown",
      "metadata": {
        "id": "federal-investing"
      },
      "source": [
        "For this command we specify the following arguments:\n",
        "        <code>-in </code>\n",
        "        <code>-dbtype</code>\n",
        "        <code>-out</code>"
      ]
    },
    {
      "cell_type": "markdown",
      "source": [
        "**Step 4)** To run BLAST we need a query sequence. This will be your GOI. There will be many ways that you can get this. For convenience sake here we will use a generic input form, but replace the following code cell with your seqeunce."
      ],
      "metadata": {
        "id": "MD87WNiBjLe4"
      }
    },
    {
      "cell_type": "code",
      "source": [
        "#@title Input your fasta file here\n",
        "\n",
        "query_name = \"scn12aa\" #@param {type:\"string\"}\n",
        "fasta_query = \"gatcaatgttttgcggattgcatatgaaggggagacgacacctgtaatgaaaagaaaagggaatcccgccgtttttatatttatttgaagtgttttcatgcctaaacaaagcgaaagcacagaacagactcgcacttaagagcaagaggcgacccttcggcggtatgggttgcatacagggatatgggttgcatacggtttgttacccttcagagaaaaactaaaaatatgggaaaatacctttatgggatgatagcaaatcatcagaggatagaaatgtaaaatacgggagaatcccaggaaaaatgggagggttgagaggtatgAttagaatccaaaatcgaaattgaattttcgattaattgcacagcgctaAATACAACACTTATCAAAAAGGTTTAAAAAGCACCCTAGTGTGAACTTAAAGAAGTGGTTTGCTTGCAAATTTAAACTATAACCCTTTTGACATCCTAGAGACACAAAATTAAGAATAATCCAGCCTcacacacacatacacacacacacacacacacatactgcttgcttcgtaatgtgggattacATAAGCAGCACTATTGGATTGTGCTGGCACCTTCAGGCCAGTAATCTCCCTAAATCATTTTAAATATGTTGCCATTACATGCAGGGAAAATCTCATCAAAATTGTATTAAGGCATGCCTATTGCTGATGCAGAGAAAATGAAACAAGGAGAATGAGTGTGTATTCAGGCAGATTTAGAACAGCTCTCTCTCTCGCCGTCTCAGATTATACTGGAGGTCACTGACCTTGACTTCATGGATTAGATGCATATGCTAGTATAAGGCCATATGTATCTGCAATGCATGCATTCTATTAGCGGCCTGTGATGTTATCATGCCAAACAAAGAGGATTTTTCAATCAATGTTGATTTCCTGGATTATTTGAAATGTTATACACAAACGAATGTTCAAATTACTTAATTAGCATGATATATAATACTAGAGTATATGGGTCCAAGCGGCTAAATGATAACATGCATTACA\" #@param {type:\"string\"}\n",
        "\n",
        "sequences = {query_name:fasta_query}\n",
        "output_path = 'input.fa'\n",
        "output_file = open(output_path,'w')\n",
        "\n",
        "identifier_line = \">\" + query_name + \"\\n\"\n",
        "output_file.write(identifier_line)\n",
        "sequence_line = fasta_query + \"\\n\"\n",
        "output_file.write(sequence_line)\n",
        "    \n",
        "#Close the file when we're done\n",
        "output_file.close()"
      ],
      "metadata": {
        "cellView": "form",
        "id": "Nz4WU0Fgjn-j"
      },
      "execution_count": 1,
      "outputs": []
    },
    {
      "cell_type": "code",
      "source": [
        "# check your fast a file\n",
        "! head input.fa"
      ],
      "metadata": {
        "colab": {
          "base_uri": "https://localhost:8080/"
        },
        "id": "Tlxy1cw9jKsw",
        "outputId": "9ad5d17c-0291-4ac1-eba0-b0dd3422d26e"
      },
      "execution_count": 11,
      "outputs": [
        {
          "output_type": "stream",
          "name": "stdout",
          "text": [
            "head: cannot open 'output.fa' for reading: No such file or directory\n"
          ]
        }
      ]
    },
    {
      "cell_type": "markdown",
      "source": [
        "**Step 5)** When you have created a BLAST library and formatted your query seqeunce it is time to run blastn using one of the query sequences in the FASTA query folder. We use blastn from the Blast+ package. The overview in the BLAST+ user manual is useful to read before beginning: https://www.ncbi.nlm.nih.gov/books/NBK569856/."
      ],
      "metadata": {
        "id": "yxF2QqDUic5F"
      }
    },
    {
      "cell_type": "code",
      "execution_count": 9,
      "metadata": {
        "id": "wicked-perspective",
        "colab": {
          "base_uri": "https://localhost:8080/"
        },
        "outputId": "95f68da2-e270-48dd-b8ab-f77cf793fac0"
      },
      "outputs": [
        {
          "output_type": "execute_result",
          "data": {
            "text/plain": [
              "[]"
            ]
          },
          "metadata": {},
          "execution_count": 9
        }
      ],
      "source": [
        "%%!\n",
        "blastn -db database -query input.fa -out results.out"
      ]
    },
    {
      "cell_type": "markdown",
      "source": [
        "Now we use grep to find our sequence in the fasta file matching the header name in the blast ouput file. You will have to replace the name after -w with the name you find."
      ],
      "metadata": {
        "id": "LHDO6sToXB0J"
      }
    },
    {
      "cell_type": "code",
      "source": [
        "! grep -A 1 -w \"13dfea90-b327-48cd-8fdd-d367a03ae674 runid=d652af8d03078163af0aadbe074b35c7cfcc6dc6\" output.fasta > my.fasta"
      ],
      "metadata": {
        "id": "v4kOKNNMWLX_"
      },
      "execution_count": 13,
      "outputs": []
    }
  ]
}